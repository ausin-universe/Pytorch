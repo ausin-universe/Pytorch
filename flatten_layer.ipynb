{
  "nbformat": 4,
  "nbformat_minor": 0,
  "metadata": {
    "colab": {
      "provenance": []
    },
    "kernelspec": {
      "name": "python3",
      "display_name": "Python 3"
    },
    "language_info": {
      "name": "python"
    }
  },
  "cells": [
    {
      "cell_type": "code",
      "execution_count": null,
      "metadata": {
        "colab": {
          "base_uri": "https://localhost:8080/"
        },
        "id": "BouCnr35I_C0",
        "outputId": "2d62a76e-95dc-47ba-f511-58c2de99e381"
      },
      "outputs": [
        {
          "output_type": "stream",
          "name": "stdout",
          "text": [
            "****************** INPUT TO FLATTEN LAYER ******************\n",
            "\n",
            "Feature Map 1 : \n",
            "[[ 3  4  7]\n",
            " [ 5  6  1]\n",
            " [ 1  8 12]]\n",
            "\n",
            "Feature Map 2 : \n",
            "[[ 6 12 10]\n",
            " [ 0 21 13]\n",
            " [17  9 19]]\n",
            "\n",
            "\n",
            "****************** OUTPUT OF FLATTEN LAYER ******************\n",
            "\n",
            "Flattened Layer Output: \n",
            "[ 3  4  7  5  6  1  1  8 12  6 12 10  0 21 13 17  9 19]\n",
            "\n"
          ]
        }
      ],
      "source": [
        "import numpy as np\n",
        "\n",
        "featureMaps = [\n",
        "    [[3,4,7], [5,6,1], [1,8,12]],\n",
        "    [[6,12,10], [0,21,13], [17,9,19]],\n",
        "]\n",
        "\n",
        "featureMaps = np.array(featureMaps);\n",
        "\n",
        "print(\"****************** INPUT TO FLATTEN LAYER ******************\")\n",
        "\n",
        "for i, featureMap in enumerate(featureMaps):\n",
        "    print(\"\\nFeature Map \" + str(i + 1) + \" : \\n\" + str(featureMap))\n",
        "\n",
        "flattenOutput = featureMaps.flatten()\n",
        "\n",
        "print(\"\\n\\n****************** OUTPUT OF FLATTEN LAYER ******************\")\n",
        "\n",
        "print(\"\\nFlattened Layer Output: \\n\" + str(flattenOutput), end = \"\\n\\n\")"
      ]
    },
    {
      "cell_type": "code",
      "source": [
        "# Loop 5 times, but we don't need to use the loop variable\n",
        "for _ in range(1,20):\n",
        "    print(_,end=\" \")\n"
      ],
      "metadata": {
        "colab": {
          "base_uri": "https://localhost:8080/"
        },
        "id": "oqGrxQwdJDVl",
        "outputId": "3ebe6c37-f03d-4a67-fa0f-cbd75750c360"
      },
      "execution_count": null,
      "outputs": [
        {
          "output_type": "stream",
          "name": "stdout",
          "text": [
            "1 2 3 4 5 6 7 8 9 10 11 12 13 14 15 16 17 18 19 "
          ]
        }
      ]
    },
    {
      "cell_type": "code",
      "source": [
        "# List of items\n",
        "items = [\"apple\", \"banana\", \"cherry\"]\n",
        "\n",
        "# Loop through the list, but we don't need to use the actual items\n",
        "for _ in items:\n",
        "    print(\"Processing an item...\")\n"
      ],
      "metadata": {
        "colab": {
          "base_uri": "https://localhost:8080/"
        },
        "id": "t2AxfynbKDC9",
        "outputId": "c7b29270-036c-4665-8a6b-e0d3db273ed2"
      },
      "execution_count": null,
      "outputs": [
        {
          "output_type": "stream",
          "name": "stdout",
          "text": [
            "Processing an item...\n",
            "Processing an item...\n",
            "Processing an item...\n"
          ]
        }
      ]
    },
    {
      "cell_type": "code",
      "source": [
        "# List of tuples, where each tuple contains two elements\n",
        "coordinates = [(1, 2), (3, 4), (5, 6)]\n",
        "\n",
        "# Loop through the list and unpack each tuple into i and j\n",
        "for i, j in coordinates:\n",
        "    print(f\"X: {i}, Y: {j}\")\n"
      ],
      "metadata": {
        "colab": {
          "base_uri": "https://localhost:8080/"
        },
        "id": "cpxqCtikcR2O",
        "outputId": "00917758-9410-4799-f28d-7ee8911d3eeb"
      },
      "execution_count": null,
      "outputs": [
        {
          "output_type": "stream",
          "name": "stdout",
          "text": [
            "X: 1, Y: 2\n",
            "X: 3, Y: 4\n",
            "X: 5, Y: 6\n"
          ]
        }
      ]
    },
    {
      "cell_type": "code",
      "source": [
        "# Dictionary with key-value pairs\n",
        "person = {\"name\": \"Alice\", \"age\": 30, \"city\": \"New York\"}\n",
        "\n",
        "# Loop through the dictionary and unpack each key-value pair into i and j\n",
        "for i, j in person.items():\n",
        "    print(f\"{i}: {j}\")\n"
      ],
      "metadata": {
        "colab": {
          "base_uri": "https://localhost:8080/"
        },
        "id": "XvTRiVd2chxE",
        "outputId": "a883a824-6bd8-4df1-e223-4070bd3e5401"
      },
      "execution_count": null,
      "outputs": [
        {
          "output_type": "stream",
          "name": "stdout",
          "text": [
            "name: Alice\n",
            "age: 30\n",
            "city: New York\n"
          ]
        }
      ]
    },
    {
      "cell_type": "code",
      "source": [
        "# List of items\n",
        "fruits = [\"apple\", \"banana\", \"cherry\"]\n",
        "\n",
        "# Loop through the list with index and value using enumerate()\n",
        "for i, j in enumerate(fruits):\n",
        "    print(f\"Index: {i}, Fruit: {j}\")\n"
      ],
      "metadata": {
        "colab": {
          "base_uri": "https://localhost:8080/"
        },
        "id": "Wh49NeECcn7B",
        "outputId": "f1ed5d1c-870d-46b0-a8c7-d7953b2ddddc"
      },
      "execution_count": null,
      "outputs": [
        {
          "output_type": "stream",
          "name": "stdout",
          "text": [
            "Index: 0, Fruit: apple\n",
            "Index: 1, Fruit: banana\n",
            "Index: 2, Fruit: cherry\n"
          ]
        }
      ]
    },
    {
      "cell_type": "code",
      "source": [],
      "metadata": {
        "id": "lLeKNKmTcp3N"
      },
      "execution_count": null,
      "outputs": []
    }
  ]
}