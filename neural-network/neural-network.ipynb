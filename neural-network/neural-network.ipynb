{
 "cells": [
  {
   "cell_type": "code",
   "execution_count": 3,
   "metadata": {},
   "outputs": [
    {
     "name": "stdout",
     "output_type": "stream",
     "text": [
      "Epoch [1/20], Loss: 0.8858\n",
      "Epoch [2/20], Loss: 0.8836\n",
      "Epoch [3/20], Loss: 0.8815\n",
      "Epoch [4/20], Loss: 0.8795\n",
      "Epoch [5/20], Loss: 0.8777\n",
      "Epoch [6/20], Loss: 0.8760\n",
      "Epoch [7/20], Loss: 0.8744\n",
      "Epoch [8/20], Loss: 0.8729\n",
      "Epoch [9/20], Loss: 0.8714\n",
      "Epoch [10/20], Loss: 0.8700\n",
      "Epoch [11/20], Loss: 0.8687\n",
      "Epoch [12/20], Loss: 0.8674\n",
      "Epoch [13/20], Loss: 0.8661\n",
      "Epoch [14/20], Loss: 0.8649\n",
      "Epoch [15/20], Loss: 0.8637\n",
      "Epoch [16/20], Loss: 0.8626\n",
      "Epoch [17/20], Loss: 0.8614\n",
      "Epoch [18/20], Loss: 0.8604\n",
      "Epoch [19/20], Loss: 0.8593\n",
      "Epoch [20/20], Loss: 0.8582\n"
     ]
    }
   ],
   "source": [
    "import torch\n",
    "import torch.nn as nn\n",
    "import torch.optim as optim\n",
    "\n",
    "# Define the neural network\n",
    "class SimpleNN(nn.Module):\n",
    "    def __init__(self):\n",
    "        super(SimpleNN, self).__init__()\n",
    "        self.layer1 = nn.Linear(10, 50)  # Input layer to hidden layer\n",
    "        self.layer2 = nn.Linear(50, 1)   # Hidden layer to output layer\n",
    "        self.relu = nn.ReLU()            # Activation function\n",
    "\n",
    "    def forward(self, x):\n",
    "        x = self.layer1(x)\n",
    "        x = self.relu(x)\n",
    "        x = self.layer2(x)\n",
    "        return x\n",
    "\n",
    "# Instantiate the model, loss function, and optimizer\n",
    "model = SimpleNN()\n",
    "criterion = nn.MSELoss()                # Mean Squared Error Loss\n",
    "optimizer = optim.SGD(model.parameters(), lr=0.01)\n",
    "\n",
    "# Generate some random data for training\n",
    "data = torch.randn(100, 10)  # 100 samples, 10 features each\n",
    "target = torch.randn(100, 1)  # 100 targets\n",
    "\n",
    "# Training loop\n",
    "epochs = 20\n",
    "for epoch in range(epochs):\n",
    "    # Zero the gradients\n",
    "    optimizer.zero_grad()\n",
    "    \n",
    "    # Forward pass\n",
    "    output = model(data)\n",
    "    loss = criterion(output, target)\n",
    "    \n",
    "    # Backward pass and optimization\n",
    "    loss.backward()\n",
    "    optimizer.step()\n",
    "    \n",
    "    print(f\"Epoch [{epoch+1}/{epochs}], Loss: {loss.item():.4f}\")\n"
   ]
  },
  {
   "cell_type": "code",
   "execution_count": null,
   "metadata": {},
   "outputs": [],
   "source": []
  }
 ],
 "metadata": {
  "kernelspec": {
   "display_name": "Python 3",
   "language": "python",
   "name": "python3"
  },
  "language_info": {
   "codemirror_mode": {
    "name": "ipython",
    "version": 3
   },
   "file_extension": ".py",
   "mimetype": "text/x-python",
   "name": "python",
   "nbconvert_exporter": "python",
   "pygments_lexer": "ipython3",
   "version": "3.11.10"
  }
 },
 "nbformat": 4,
 "nbformat_minor": 2
}
